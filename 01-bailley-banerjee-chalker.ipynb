{
 "cells": [
  {
   "cell_type": "markdown",
   "metadata": {
    "id": "J4e4pNv0wVrH"
   },
   "source": [
    "# <font color = 'black'> <b>The Pain Killers — The Impact of Opioid Prescriptions on Overdose Deaths</b>\n",
    "#### <font color = 'gray'> SIADS 593 - Milestone I - Spring/Summer, 2023\n",
    "#### <font color = 'gray'> Douglas Bailley (dbailley), Ayan Banerjee (ayandsum), Richard Chalker (rchalker)"
   ]
  },
  {
   "cell_type": "markdown",
   "metadata": {},
   "source": [
    "## <font color = 'steelblue'> <b>Introduction</b>\n",
    "#### <font color = 'gray'> According to the Centers for Disease Control and Prevention (CDC), in 2020, 16,000 people died from an overdose of prescription opioids. That's 44 people per day who died from prescription painkillers, not street drugs.<br><sub>(Source: <https://www.cdc.gov/drugoverdose/deaths/prescription/maps.html>)</sub><br><br>This project aims to understand the rates of opioid prescriptions and overdose deaths in the population being studied. Specifically, we investigate legal opioid prescriptions and overdose deaths at the state and county level. This exploratory data analysis provides visualizations and statistics to illustrate observed trends.\n"
   ]
  },
  {
   "cell_type": "markdown",
   "metadata": {},
   "source": [
    "## <font color = 'steelblue'> <b>Motivation</b>\n",
    "#### <font color = 'gray'> For generations, heroin was widely considered the deadliest illegal narcotic available. But perceptions have changed in recent years. As the figure below shows, the rate of overdose deaths from prescription opioids has now surpassed the rate of overdose deaths from heroin."
   ]
  },
  {
   "cell_type": "markdown",
   "metadata": {},
   "source": [
    "![Altair motivation viz](assets/motivation_viz.png)\n",
    "\n",
    "*Figure: Visualization illustrating the motivation behind this study.*\n",
    "\n",
    "##### <font color='gray'><b>Altair visualization adapted from the National Center for Health Statistics data brief titled \"NCHS Data Brief, Number 457, December 2022\". <br><sub>(source: https://www.cdc.gov/nchs/data/databriefs/db457-tables.pdf#4n)</sub>"
   ]
  },
  {
   "cell_type": "markdown",
   "metadata": {},
   "source": [
    "## <font color = 'steelblue'> <b>Configurations - <i>Imports, Initializations, & Standardization<i>"
   ]
  },
  {
   "cell_type": "markdown",
   "metadata": {},
   "source": [
    "##### <font color = 'gray'>  Note to Coursera users: This notebook was validated on UMSI https://www.coursera.org/learn/siads622/<br><sub>required: pip install geopandas & pip install openpyxl<sub>"
   ]
  },
  {
   "cell_type": "code",
   "execution_count": null,
   "metadata": {
    "id": "L9Djs0lkwVrK"
   },
   "outputs": [],
   "source": [
    "# Import Pandas, NumPy, RegEx (re), and Zipfile libraries for data import and manipulation\n",
    "from IPython.display import display\n",
    "import numpy as np\n",
    "import pandas as pd\n",
    "import re\n",
    "import statsmodels.formula.api as smf\n",
    "import zipfile\n",
    "\n",
    "# Import Altair and other required libraries for visualizations\n",
    "import altair as alt\n",
    "import geopandas as gpd\n",
    "from io import StringIO\n",
    "import json\n",
    "import requests\n",
    "from vega_datasets import data\n",
    "\n",
    "# Import Sys to print library version information\n",
    "import sys"
   ]
  },
  {
   "cell_type": "code",
   "execution_count": null,
   "metadata": {},
   "outputs": [],
   "source": [
    "# Import custom functions from Python script \"pk_functions\" to keep notebook organized and readable\n",
    "sys.path.append(\"./assets/\")\n",
    "\n",
    "from pk_functions import *\n",
    "\n",
    "# keep warnings from cluttering the notebook\n",
    "import warnings\n",
    "warnings.filterwarnings(\"ignore\")\n",
    "pd.options.mode.chained_assignment = None\n",
    "\n",
    "# state abbreviations (from pk_functions.py)\n",
    "state_abbreviations = get_state_abbreviations()"
   ]
  },
  {
   "cell_type": "markdown",
   "metadata": {},
   "source": [
    "<font color=\"black\"> Recommend — Python version: 3.8.16 or higher, Pandas version: 1.4.4, Altair version: 4.2.0"
   ]
  },
  {
   "cell_type": "code",
   "execution_count": null,
   "metadata": {
    "id": "IdgThFE8wVrM",
    "outputId": "ec385146-4c87-4423-b74f-02f7598243e6"
   },
   "outputs": [],
   "source": [
    "# Print version information. Recommend Python version: 3.8.16 or higher, Pandas version: 1.4.4, Altair version: 4.2.0\n",
    "print(f\"Python version: {sys.version[:6]}\")\n",
    "print(f\"Pandas version: {pd.__version__}\")\n",
    "print(f\"Altair version: {alt.__version__}\")"
   ]
  },
  {
   "cell_type": "code",
   "execution_count": null,
   "metadata": {},
   "outputs": [],
   "source": [
    "# Configure file paths\n",
    "cdc_file_path = \"data/Underlying_Causeof_Death_1999_2020_on_2023_5_12.txt\"\n",
    "cms_file_path = \"data/Medicare_Part_D_Opioid_Prescribing_Rates_by_Geography_2020.zip\"\n",
    "cms_file_name = \"Medicare_Part_D_Opioid_Prescribing_Rates_by_Geography_2020.csv\"\n",
    "# excel_file_path = \"data/merged_df-test.xlsx\""
   ]
  },
  {
   "cell_type": "markdown",
   "metadata": {},
   "source": [
    "## <font color = 'steelblue'> <b>Datasets Acquisition Process and Data Loading<b>"
   ]
  },
  {
   "cell_type": "markdown",
   "metadata": {},
   "source": [
    "### <font color = 'steelblue'> <b>Dataset #1: </b><i>CDC Underlying Cause of Death, 1999-2020</i></font>\n",
    "<font color = \"gray\">\n",
    "URL is https://wonder.cdc.gov/ucd-icd10.html\n",
    "Click \"I Agree\" towards bottom of page\n",
    "\n",
    "Options on Request Form (menu selections)\n",
    "1. Organize table layout\n",
    "    Group Results By<br>\n",
    "    select: \"State\"<br>\n",
    "    select: \"County\"<br>\n",
    "    select: \"Year\"<br><br>\n",
    "2. Select location\n",
    "    radio button: \"States\"<br>\n",
    "    select: \"All (The United States)\"<br>\n",
    "    radio button: 2013 Urbanization --> \"All Categories\"<br><br>\n",
    "3. Select demographics\n",
    "    radio button: \"Five-Year Age Groups\" --> \"All Ages\"<br>\n",
    "    Gender: \"All Genders\"<br>\n",
    "    Hispanic Origin: \"All Origins\"<br>\n",
    "    Race: \"All Races\"<br><br>\n",
    "4. Select year and month\n",
    "    select: \"All (All Dates)\"<br><br>\n",
    "5. Select weekday, autopsy and place of death\n",
    "    Select: Weekday --> \"All Weekdays\"<br>\n",
    "    Select: Autopsy --> \"All Values\"<br>\n",
    "    Select: Place of Death --> \"All Places<br><br>\n",
    "6. Select cause of death:\n",
    "    Radio button: \"Drug/Alcohol Induced Causes\"<br>\n",
    "    Select: \"Drug-Induced causes\"<br><br>\n",
    "7. Other options:\n",
    "    Export Result: &#x2611;<br>\n",
    "    Show Zero Values: &#x2611;<br>\n",
    "    Show Supressed Values: &#x2611;<br>\n",
    "    Precision: 2 decimal places<br>\n",
    "    Data Access Timeout: 10 minutes\n",
    "\n",
    "<font color=\"black\"> Optional: The user can click on this Markdown cell and uncomment line below to see a .png with selections\n",
    "<!-- ![CDC](assets/screencapture-wonder-cdc-gov-controller-datarequest-D76-2023-05-12-15_09_37.png) -->"
   ]
  },
  {
   "cell_type": "code",
   "execution_count": null,
   "metadata": {
    "id": "hrKwSiGjwVrO"
   },
   "outputs": [],
   "source": [
    "# use Pandas to read/load the CDC txt file on Opioid deaths\n",
    "cdc_df = pd.read_csv(cdc_file_path, delimiter=\"\\t\", low_memory=False)"
   ]
  },
  {
   "cell_type": "markdown",
   "metadata": {},
   "source": [
    "### <font color='steelblue'> <b>Dataset #2: </b><i>CMS Medicare Part D Opioid Prescribing Rates by Geography 2020</i> </font>\n",
    "<font color=\"gray\"> source: [https://data.cms.gov/](https://shorturl.at/fhwxY) </font>"
   ]
  },
  {
   "cell_type": "code",
   "execution_count": null,
   "metadata": {},
   "outputs": [],
   "source": [
    "# use \"zipfile\" and Pandas to import the CMS data on Opioid Prescribing Rates\n",
    "with zipfile.ZipFile(cms_file_path, \"r\") as zf:\n",
    "    with zf.open(cms_file_name) as csv_file:\n",
    "        cms_df = pd.read_csv(csv_file)"
   ]
  },
  {
   "cell_type": "markdown",
   "metadata": {},
   "source": [
    "## <font color = 'steelblue'> <b>Data Description and Preparation<b>"
   ]
  },
  {
   "cell_type": "markdown",
   "metadata": {},
   "source": [
    "### <font color = 'gray'> <b>CDC Data - <b><i>Underlying Cause of Death, 1999-2020</i>"
   ]
  },
  {
   "cell_type": "markdown",
   "metadata": {},
   "source": [
    "<font color=\"black\"> cdc_df before cleaning up"
   ]
  },
  {
   "cell_type": "code",
   "execution_count": null,
   "metadata": {
    "id": "ZBPJsR3qwVrQ",
    "outputId": "294d7c83-ef06-4d42-fd8f-bc7650420c68"
   },
   "outputs": [],
   "source": [
    "# An overview of the cdc_df dataFrame\n",
    "# cdc_df before cleaning up\n",
    "print(f\"cdc_df number of rows: {cdc_df.shape[0]}\")\n",
    "print(f\"cdc_df number of columns: {cdc_df.shape[1]}\")\n",
    "print(f\"cdc_df columns: {cdc_df.columns.tolist()}\")\n",
    "\n",
    "# Calculate the size of the Pandas DataFrame in MB (from pk_functions.py)\n",
    "mem_MB = calculate_dataframe_memory_usage(cdc_df)\n",
    "print(f\"cdc_df 'Memory usage: {mem_MB:.2f} MB\")"
   ]
  },
  {
   "cell_type": "code",
   "execution_count": null,
   "metadata": {
    "id": "jn2eVXENwVrR"
   },
   "outputs": [],
   "source": [
    "# Dataset Notes start at row 69234  — prune them\n",
    "cdc_df = cdc_df.iloc[:69234]\n",
    "\n",
    "# Retain columns of interest\n",
    "cdc_df = cdc_df[[\"State\", \"County\", \"County Code\", \"Population\", \"Year\", \"Deaths\"]]\n",
    "\n",
    "# use a subset of the data for the analysis\n",
    "cdc_df.drop(cdc_df[cdc_df.Year < 2013].index, inplace=True)  # using 2013 - 2020 data\n",
    "print(f\"cdc_df number of rows: {cdc_df.shape[0]}\")\n",
    "print(f\"cdc_df number of columns: {cdc_df.shape[1]}\")\n",
    "print(f\"cdc_df columns: {cdc_df.columns.tolist()}\")\n",
    "\n",
    "cdc_original_df = cdc_df.copy()  # may be useful later"
   ]
  },
  {
   "cell_type": "markdown",
   "metadata": {},
   "source": [
    "<font color=\"black\">Our approach for treating \"suppressed\" and \"missing\" values is discussed below.<br>\n",
    "Data imputation:  use the mean value (integer) between 1-9 to fill in the Suppressed data (value = 5) and Missing data (value = 0)."
   ]
  },
  {
   "cell_type": "code",
   "execution_count": null,
   "metadata": {},
   "outputs": [],
   "source": [
    "# replace suppressed values with 5\n",
    "cdc_df[\"Deaths\"] = cdc_df[\"Deaths\"].replace(\"Suppressed\", 5)\n",
    "# replace missing values with 0\n",
    "cdc_df[\"Deaths\"] = cdc_df[\"Deaths\"].replace(\"Missing\", 0)\n",
    "\n",
    "# get the sum for cdc_df[\"Deaths\"]\n",
    "cdc_df[\"Deaths\"] = cdc_df[\"Deaths\"].astype(int)\n",
    "# cdc_df[\"Deaths\"].sum() # 574291"
   ]
  },
  {
   "cell_type": "code",
   "execution_count": null,
   "metadata": {},
   "outputs": [],
   "source": [
    "# Set the data types for the columns of interest\n",
    "dtype_dict = {\n",
    "    \"State\": str,\n",
    "    \"County\": str,\n",
    "    \"County Code\": int,\n",
    "    \"Year\": int,\n",
    "    \"Deaths\": int,\n",
    "}\n",
    "\n",
    "cdc_df = cdc_df.astype(dtype_dict)"
   ]
  },
  {
   "cell_type": "code",
   "execution_count": null,
   "metadata": {},
   "outputs": [],
   "source": [
    "# a check\n",
    "cdc_df[\"Deaths\"].sum()  # 574291"
   ]
  },
  {
   "cell_type": "markdown",
   "metadata": {},
   "source": [
    "<font color=\"black\"> An overview of the cleaned up cdc_df dataFrame"
   ]
  },
  {
   "cell_type": "code",
   "execution_count": null,
   "metadata": {},
   "outputs": [],
   "source": [
    "# An overview of the cleaned up cdc_df dataFrame\n",
    "display_dataframe_overview(cdc_df) # from pk_functions.py"
   ]
  },
  {
   "cell_type": "markdown",
   "metadata": {},
   "source": [
    "### <font color = 'steelblue'> <b>CMS Data - <b><i>Medicare Part D Opioid Prescribing Rates by Geography</i>"
   ]
  },
  {
   "cell_type": "markdown",
   "metadata": {},
   "source": [
    "<font color=\"black\"> cms_df before cleaning up"
   ]
  },
  {
   "cell_type": "code",
   "execution_count": null,
   "metadata": {},
   "outputs": [],
   "source": [
    "# cms_df before cleaning up\n",
    "# An overview of the cms_df dataFrame\n",
    "print(f\"cms_df number of rows: {cms_df.shape[0]}\")\n",
    "print(f\"cms_df number of columns: {cms_df.shape[1]}\")\n",
    "\n",
    "# cms_df columns is long — split it into two strings for readability without scrolling\n",
    "print_column_names(cms_df) # from pk_functions.py\n",
    "\n",
    "# Calculate the size of the Pandas DataFrame in MB (from pk_functions.py)\n",
    "mem_MB = calculate_dataframe_memory_usage(cms_df)\n",
    "print(f\"cms_df 'Memory usage: {mem_MB:.2f} MB\")\n"
   ]
  },
  {
   "cell_type": "code",
   "execution_count": null,
   "metadata": {
    "id": "Id5dOLu-wVrX"
   },
   "outputs": [],
   "source": [
    "# Retain year data for year 2020 and rows where 'Prscbr_Geo_Lvl' indicates 'ZIP'\n",
    "# cms_df = cms_df[(cms_df[\"Year\"] == 2020) & (cms_df[\"Prscrbr_Geo_Lvl\"] == \"ZIP\")]\n",
    "cms_df = cms_df[(cms_df[\"Prscrbr_Geo_Lvl\"] == \"ZIP\")]\n",
    "# cms_df"
   ]
  },
  {
   "cell_type": "code",
   "execution_count": null,
   "metadata": {
    "id": "aNLOh1qOwVrY"
   },
   "outputs": [],
   "source": [
    "# Create a copy of the DataFrame\n",
    "cms_df = cms_df.copy()  #\n",
    "\n",
    "# Apply the split_state_county_zip() function (an import from  pk_functions) to create new columns\n",
    "cms_df[\"County\"] = cms_df[\"Prscrbr_Geo_Desc\"].apply(\n",
    "    lambda x: split_state_county_zip(x, re, state_abbreviations)[0]\n",
    ")\n",
    "cms_df[\"Zip_Code\"] = cms_df[\"Prscrbr_Geo_Desc\"].apply(\n",
    "    lambda x: split_state_county_zip(x, re, state_abbreviations)[1]\n",
    ")\n",
    "\n",
    "# drop rows where County is NaN\n",
    "cms_df = cms_df.dropna(subset=[\"County\"])"
   ]
  },
  {
   "cell_type": "markdown",
   "metadata": {},
   "source": [
    "<font color=\"black\"> An overview of the cleaned up cms_df dataFrame"
   ]
  },
  {
   "cell_type": "code",
   "execution_count": null,
   "metadata": {},
   "outputs": [],
   "source": [
    "# An overview of the cleaned up cms_df DataFrame\n",
    "display_dataframe_overview(cms_df) # from pk_functions.py"
   ]
  },
  {
   "cell_type": "markdown",
   "metadata": {},
   "source": [
    "Question 1 - New"
   ]
  },
  {
   "cell_type": "markdown",
   "metadata": {},
   "source": [
    "### <font color = 'steelblue'> <b>Question 1: </b> Is there a relationship between <i>\"opioid related deaths\"</i> and <i>\"opioid prescription claims\" at the state - level</i>?"
   ]
  },
  {
   "cell_type": "code",
   "execution_count": null,
   "metadata": {},
   "outputs": [],
   "source": [
    "# create a version of cdc_df with a County-Year column. DataFrame:  cdc_c_y with only the columns of interest\n",
    "cdc_c_y = cdc_df.copy()\n",
    "cdc_c_y = cdc_c_y[[\"State\", \"County\", \"County Code\", \"Year\", \"Population\", \"Deaths\"]]\n",
    "cdc_c_y = cdc_c_y.rename(columns={\"County Code\": \"County_Code\"})\n",
    "cdc_c_y.head(3)\n",
    "\n",
    "# prepare for merge\n",
    "cdc_c_y[\"County-Year\"] = cdc_c_y[\"County\"] + \"-\" + cdc_c_y[\"Year\"].astype(str)\n",
    "cdc_c_y.head(3)"
   ]
  },
  {
   "cell_type": "code",
   "execution_count": null,
   "metadata": {},
   "outputs": [],
   "source": [
    "# create a version of cms_df with a County-Year column. DataFrame:  cms_c_y with only the columns of interest\n",
    "cms_c_y = cms_df.copy()\n",
    "cms_c_y = cms_c_y[[\"County\", \"Year\", \"Tot_Opioid_Clms\"]]\n",
    "cms_c_y.head(3)\n",
    "\n",
    "# prepare for merge\n",
    "cms_c_y[\"County-Year\"] = cms_c_y[\"County\"] + \"-\" + cms_c_y[\"Year\"].astype(str)\n",
    "cms_c_y.head(3)"
   ]
  },
  {
   "cell_type": "code",
   "execution_count": null,
   "metadata": {},
   "outputs": [],
   "source": [
    "# Group by County and sum the total opioid claims in the county\n",
    "groupby_object = cms_c_y.groupby([\"County-Year\"]).agg({\"Tot_Opioid_Clms\": \"sum\"})\n",
    "opioid_clms_df = groupby_object.reset_index()"
   ]
  },
  {
   "cell_type": "code",
   "execution_count": null,
   "metadata": {},
   "outputs": [],
   "source": [
    "# show the opioid_clms_df\n",
    "opioid_clms_df.head(3)"
   ]
  },
  {
   "cell_type": "code",
   "execution_count": null,
   "metadata": {},
   "outputs": [],
   "source": [
    "# a check\n",
    "# show the total opioid claims in for County-Year which includes string \"Weston County, WY\"\n",
    "print(opioid_clms_df[opioid_clms_df[\"County-Year\"].str.contains(\"Weston County, WY\")])  \n",
    "\n",
    "# sum up: opioid_clms_df[opioid_clms_df[\"County-Year\"].str.contains(\"Weston County, WY\")\n",
    "opioid_clms_df[opioid_clms_df[\"County-Year\"].str.contains(\"Weston County, WY\")] [\"Tot_Opioid_Clms\"].sum()"
   ]
  },
  {
   "cell_type": "code",
   "execution_count": null,
   "metadata": {},
   "outputs": [],
   "source": [
    "# Merge cdc_df with cms_df on 'County-Year' column\"\n",
    "merged_df = cdc_c_y.merge(\n",
    "    opioid_clms_df, left_on = \"County-Year\", right_on=  \"County-Year\", how = \"left\"\n",
    ")"
   ]
  },
  {
   "cell_type": "code",
   "execution_count": null,
   "metadata": {},
   "outputs": [],
   "source": [
    "# show merged_df\n",
    "merged_df"
   ]
  },
  {
   "cell_type": "code",
   "execution_count": null,
   "metadata": {},
   "outputs": [],
   "source": [
    "# change the name of final_df to new_final_df\n",
    "new_final_df = merged_df[\n",
    "    [\n",
    "        \"Year\",\n",
    "        \"State\",\n",
    "        \"County\",\n",
    "        \"County_Code\",\n",
    "        \"County-Year\",\n",
    "        \"Population\",\n",
    "        \"Tot_Opioid_Clms\",\n",
    "        \"Deaths\",\n",
    "    ]\n",
    "]\n"
   ]
  },
  {
   "cell_type": "code",
   "execution_count": null,
   "metadata": {},
   "outputs": [],
   "source": [
    "# drop rows with NaN values in the \"Tot_Opioid_Clms\" column\n",
    "new_final_df = new_final_df.dropna(subset=[\"Tot_Opioid_Clms\"])\n",
    "# new_final_df.head(3)"
   ]
  },
  {
   "cell_type": "code",
   "execution_count": null,
   "metadata": {},
   "outputs": [],
   "source": [
    "# Set the data types for the columns of interest\n",
    "dtype_dict = {\n",
    "    \"Year\": int,\n",
    "    \"State\": str,\n",
    "    \"County\": str,\n",
    "    \"County_Code\": str,\n",
    "    \"County-Year\": str,\n",
    "    \"Population\": int,\n",
    "    \"Tot_Opioid_Clms\": int,\n",
    "    \"Deaths\": int,\n",
    "}\n",
    "\n",
    "new_final_df = new_final_df.astype(dtype_dict)"
   ]
  },
  {
   "cell_type": "code",
   "execution_count": null,
   "metadata": {},
   "outputs": [],
   "source": [
    "# Aggregate data at State level\n",
    "grouped_state = new_final_df.groupby([\"Year\", \"State\"]).agg(\n",
    "    {\"Population\": \"sum\", \"Tot_Opioid_Clms\": \"sum\", \"Deaths\": \"sum\"}\n",
    ")\n",
    "\n",
    "grouped_state = grouped_state.reset_index()"
   ]
  },
  {
   "cell_type": "code",
   "execution_count": null,
   "metadata": {},
   "outputs": [],
   "source": [
    "# sort the 'grouped_state' DataFrame by the 'Deaths' column in descending order and reset the index\n",
    "grouped_state = grouped_state.sort_values(by = [\"Deaths\"], ascending = False).reset_index(drop = True)\n",
    "\n",
    "# create column for Opioid Deaths per 100,000 AND Opioid Claims per 100,000\n",
    "grouped_state[\"Opioid_Deaths_per_100k\"] = grouped_state[\"Deaths\"] / grouped_state[\"Population\"] * 100000\n",
    "grouped_state[\"Opioid_Claims_per_100k\"] = grouped_state[\"Tot_Opioid_Clms\"] / grouped_state[\"Population\"] * 100000"
   ]
  },
  {
   "cell_type": "code",
   "execution_count": null,
   "metadata": {},
   "outputs": [],
   "source": [
    "# new column with (redundant) state sums\n",
    "state_sum = grouped_state.groupby([\"State\"]).agg({\"Tot_Opioid_Clms\": \"sum\"})\n",
    "grouped_state[\"state_sum\"] = grouped_state[\"State\"].map(state_sum[\"Tot_Opioid_Clms\"]) "
   ]
  },
  {
   "cell_type": "code",
   "execution_count": null,
   "metadata": {},
   "outputs": [],
   "source": [
    "# a check to inspect, sort grouped state by year and state\n",
    "# grouped_state[grouped_state[\"State\"] == \"California\"]\n",
    "\n",
    "grouped_state_sorted = grouped_state.sort_values(\n",
    "    by=[\"State\", \"Year\"], ascending=True\n",
    ").reset_index(drop=True)\n",
    "\n",
    "# a check - shows California\n",
    "grouped_state_sorted[32:40]"
   ]
  },
  {
   "cell_type": "markdown",
   "metadata": {},
   "source": [
    "### <font color = 'steelblue'><b>Visualizaton — question 1</b></br>"
   ]
  },
  {
   "cell_type": "code",
   "execution_count": null,
   "metadata": {},
   "outputs": [],
   "source": [
    "# Create bar chart for opioid claims per state\n",
    "bar_opioid_claims = (\n",
    "    alt.Chart(grouped_state,\n",
    "              title = alt.TitleParams(\n",
    "                                text = \"State-wise trend of Opioid Claims & Drug Overdose Deaths\",\n",
    "                                subtitle = [\"Based on data from 2013 to 2020\", \" \"],\n",
    "                                anchor = 'start', fontSize = 20\n",
    "                                , fontWeight = 'bold', subtitleFontSize = 16\n",
    "                              )\n",
    "              )\n",
    "    .mark_bar()\n",
    "    .encode(\n",
    "        x = alt.X(\n",
    "            \"State:N\",\n",
    "            sort = alt.EncodingSortField(\n",
    "                field = \"Tot_Opioid_Clms\", op = \"sum\", order = \"descending\"\n",
    "            ),\n",
    "        ),\n",
    "        y = alt.Y(\"state_sum:Q\", title = \"Total Opioid Claims\"),\n",
    "    )\n",
    ")\n",
    "\n",
    "# Create a line graph for drug overdose deaths per state\n",
    "line_total_deaths = (\n",
    "    alt.Chart(grouped_state)\n",
    "    .mark_bar(color=\"red\", size=2 )\n",
    "    .encode(\n",
    "        x=alt.X(\n",
    "            \"State:N\",\n",
    "            sort = alt.EncodingSortField(\n",
    "                field = \"Tot_Opioid_Clms\", op = \"sum\", order = \"descending\"\n",
    "            ),\n",
    "        ),\n",
    "        y = alt.Y(\"Deaths:Q\", title = \"Total Deaths\", axis = alt.Axis(titleColor = \"red\")),\n",
    "    )\n",
    ")\n",
    "\n",
    "# Create a overlapping visualization for comparison\n",
    "chart_claims_and_deaths = alt.layer(bar_opioid_claims, line_total_deaths).resolve_scale(y = \"independent\")\n",
    "chart_claims_and_deaths"
   ]
  },
  {
   "cell_type": "markdown",
   "metadata": {},
   "source": [
    "### <font color = 'steelblue'><b>Analysis — question 1</b></br>\n",
    "#### <font color = 'gray'> The state-wise plotting of opioid claims and drug overdose deaths indicates that there's a strong positive correlation between total opioid claims and drug overdose death. The subsequent investigation of Pearson's correlation coefficient (0.88) corroborates this assessment. We also notice a statistically significant relationship between total opioid claims and number of drug overdose deaths."
   ]
  },
  {
   "cell_type": "markdown",
   "metadata": {},
   "source": [
    "### <font color = 'steelblue'> <b>Question 2: </b> Is there a relationship between <i>\"opioid related deaths\"</i> and <i>\"opioid prescription claims\"</i>?"
   ]
  },
  {
   "cell_type": "markdown",
   "metadata": {},
   "source": [
    "### <font color = 'steelblue'> <b>Question 2: </b> EDA Preparation</i>?"
   ]
  },
  {
   "cell_type": "markdown",
   "metadata": {},
   "source": [
    "### <font color = 'steelblue'><b>Visualizaton — Question 2</b></br>"
   ]
  },
  {
   "cell_type": "code",
   "execution_count": null,
   "metadata": {},
   "outputs": [],
   "source": [
    "# Create bar chart for opioid claims per state per 100k population\n",
    "\n",
    "bar_opioid_claims_100k = (\n",
    "    alt.Chart(\n",
    "        grouped_state,\n",
    "        title=alt.TitleParams(\n",
    "            text=\"State-wise comparison of Opioid Claims & Overdose Deaths per 100k Population\",\n",
    "            subtitle=[\"Based on data from 2013 to 2020\", \" \"],\n",
    "            anchor=\"start\",\n",
    "            fontSize=20,\n",
    "            fontWeight=\"bold\",\n",
    "            subtitleFontSize=16,\n",
    "        ),\n",
    "    )\n",
    "    .mark_bar(width=10)\n",
    "    .encode(\n",
    "        x=alt.X(\n",
    "            \"State:N\",\n",
    "            sort=alt.EncodingSortField(\n",
    "                field=\"Opioid_Claims_per_100k\", op=\"sum\", order=\"descending\"\n",
    "            ),\n",
    "        ),\n",
    "        y=alt.Y(\"Opioid_Claims_per_100k:Q\"),\n",
    "    )\n",
    ")\n",
    "\n",
    "# Create a line graph for opioid deaths per state per 100k population\n",
    "line_opioid_deaths_100k = (\n",
    "    alt.Chart(grouped_state)\n",
    "    .mark_bar(color=\"red\", size=2)\n",
    "    .encode(\n",
    "        x=alt.X(\n",
    "            \"State:N\",\n",
    "            sort=alt.EncodingSortField(\n",
    "                field=\"Opioid_Claims_per_100k\", op=\"sum\", order=\"descending\"\n",
    "            ),\n",
    "        ),\n",
    "        y=alt.Y(\n",
    "            \"Opioid_Deaths_per_100k:Q\",\n",
    "            title=\"Overdose Deaths per 100k\",\n",
    "            axis=alt.Axis(titleColor=\"red\"),\n",
    "        ),\n",
    "    )\n",
    ")\n",
    "\n",
    "# Create a overlapping chart for comparison\n",
    "chart_claims_and_deaths_100k = alt.layer(\n",
    "    bar_opioid_claims_100k, line_opioid_deaths_100k\n",
    ").resolve_scale(y=\"independent\")\n",
    "chart_claims_and_deaths_100k.properties(width=800)"
   ]
  },
  {
   "cell_type": "markdown",
   "metadata": {},
   "source": [
    "### <font color = 'steelblue'><b>Analysis — question 2</b></br>"
   ]
  },
  {
   "cell_type": "code",
   "execution_count": null,
   "metadata": {},
   "outputs": [],
   "source": [
    "# This function is used to check strength and statistical significance of two features. (import from pk_functions.py)\n",
    "corrStrengthSignificanceAnalysis(grouped_state, \"Tot_Opioid_Clms\", \"Deaths\")"
   ]
  },
  {
   "cell_type": "markdown",
   "metadata": {},
   "source": [
    "#### <font color = 'gray'> While not impossible, it can be challenging to look at the numerical data alone and get a sense of how Opioid Prescription Claims and Opioid Overdose Deaths relate. To get a sense of the regional characteristics of the Opioid Crisis, a visualization was created. For each state, both Opioid Prescription Claims and Opioid Overdose Deaths were normalized by presenting the data on a per 100,000 basis. An Altair plot encodes \"State\" on the x-axis. On the left y-axis, \"Opioid Claims per 100k\" are encoded, and on the right y-axis, \"Opioid Overdose Deaths per 100k\".<br><br>The following observations can be made from the visualization:<br>Alabama has the most Opioid Prescription Claims, but not the most Opioid Overdose Deaths. Likewise, Arkansas and Oklahoma have similar patterns.<br>In contrast, Opioid Overdose Deaths far outpace Opioid Prescription Claims in West Virginia, Connecticut, and Alaska. This suggests that something other than just the prescription rate is behind the Opioid Crisis.<br>Alaska and Hawaii have similar Opioid Prescription Claims, but Alaska has a higher Opioid Overdose Death rate. Perhaps a future study will explore the connection between the number of daylight hours, climate, and drug abuse.<br><br>The Coefficient indicates a stong Positive correlation with statistical significance (p-value < 0.05>)\n"
   ]
  },
  {
   "cell_type": "markdown",
   "metadata": {},
   "source": [
    "### <font color = 'steelblue'> <b>Question 3: </b> How opioid related deaths vary across counties in the USA</i>?</font>\n",
    "<font color=\"gray\">\n",
    "The total number of death is color coded<br>\n",
    "County names and corresponding death numbers are shown in tooltip (mouseover)<br>\n",
    "The \"white\" areas indicate missing data for that county / geographic region"
   ]
  },
  {
   "cell_type": "markdown",
   "metadata": {
    "id": "mBjncQVCwVrx"
   },
   "source": [
    "### <font color = 'gray'> <b>Prepare data for Choropleth map visualizations<b>\n",
    "- Objective is to drill down at county level\n",
    "- Reference: https://altair-viz.github.io/gallery/choropleth.html"
   ]
  },
  {
   "cell_type": "code",
   "execution_count": null,
   "metadata": {
    "id": "bUTu9cuCwVrx"
   },
   "outputs": [],
   "source": [
    "# Get counties\n",
    "counties = alt.topo_feature(data.us_10m.url, \"counties\")\n",
    "\n",
    "# Fetch the TopoJSON data\n",
    "topojson_url = data.us_10m.url\n",
    "response = requests.get(topojson_url)\n",
    "topojson_data = json.loads(response.text)\n",
    "\n",
    "# Convert TopoJSON to GeoJSON\n",
    "geojson_data = gpd.read_file(StringIO(json.dumps(topojson_data)), driver=\"TopoJSON\")"
   ]
  },
  {
   "cell_type": "code",
   "execution_count": null,
   "metadata": {},
   "outputs": [],
   "source": [
    "# Merge Geojson data with final_df for start year 2013 on County code\n",
    "# (represented as \"id\" in final_df and as \"County_Code\" in geojson_data)\n",
    "\n",
    "geojson_data_plus_2013 = geojson_data.merge(\n",
    "    new_final_df[new_final_df.Year == 2013],\n",
    "    left_on=\"id\",\n",
    "    right_on=\"County_Code\",\n",
    "    how=\"left\",\n",
    ")"
   ]
  },
  {
   "cell_type": "code",
   "execution_count": null,
   "metadata": {},
   "outputs": [],
   "source": [
    "# Merge Geojson data with final_df for final year 2020 on County code\n",
    "# (represented as \"id\" in final_df and as \"County_Code\" in geojson_data)\n",
    "\n",
    "geojson_data_plus_2020 = geojson_data.merge(\n",
    "    new_final_df[new_final_df.Year == 2020],\n",
    "    left_on=\"id\",\n",
    "    right_on=\"County_Code\",\n",
    "    how=\"left\",\n",
    ")"
   ]
  },
  {
   "cell_type": "code",
   "execution_count": null,
   "metadata": {},
   "outputs": [],
   "source": [
    "# Add calculated columns for death per capita and total opioid claims per capita\n",
    "# for year 2013\n",
    "\n",
    "geojson_data_plus_2013[\"Deaths_Per_Capita\"] = (\n",
    "    geojson_data_plus_2013[\"Deaths\"] / geojson_data_plus_2013[\"Population\"]\n",
    ")\n",
    "geojson_data_plus_2013[\"Tot_Opioid_Clms_Per_Capita\"] = (\n",
    "    geojson_data_plus_2013[\"Tot_Opioid_Clms\"] / geojson_data_plus_2013[\"Population\"]\n",
    ")"
   ]
  },
  {
   "cell_type": "code",
   "execution_count": null,
   "metadata": {},
   "outputs": [],
   "source": [
    "# Add calculated columns for death per capita and total opioid claims per capita\n",
    "# for year 2013\n",
    "\n",
    "geojson_data_plus_2020[\"Deaths_Per_Capita\"] = (\n",
    "    geojson_data_plus_2020[\"Deaths\"] / geojson_data_plus_2020[\"Population\"]\n",
    ")\n",
    "geojson_data_plus_2020[\"Tot_Opioid_Clms_Per_Capita\"] = (\n",
    "    geojson_data_plus_2020[\"Tot_Opioid_Clms\"] / geojson_data_plus_2020[\"Population\"]\n",
    ")"
   ]
  },
  {
   "cell_type": "code",
   "execution_count": null,
   "metadata": {
    "id": "kwaTzYHUwVrx",
    "outputId": "aa08f1c2-4d3a-4abe-cf23-70586e3fb75e"
   },
   "outputs": [],
   "source": [
    "# Review the data\n",
    "geojson_data_plus_2020.head(3)"
   ]
  },
  {
   "cell_type": "markdown",
   "metadata": {},
   "source": [
    "### <font color = 'steelblue'><b>Visualizaton — Question 3</b></br>"
   ]
  },
  {
   "cell_type": "markdown",
   "metadata": {},
   "source": [
    "#### <font color = 'gray'> Here's a side-by-side comparison of absolute number of opioid related deaths in US counties in year 2013 vs 2020. We observe rise in the absolute numbers in 2020 in the counties which were already on higher side in 2013. "
   ]
  },
  {
   "cell_type": "code",
   "execution_count": null,
   "metadata": {},
   "outputs": [],
   "source": [
    "opi_death_2013 = (\n",
    "    alt.Chart(\n",
    "        geojson_data_plus_2013,\n",
    "        title=alt.TitleParams(\n",
    "            text=\"Number of opioid related deaths in US counties\",\n",
    "            subtitle=[\"in Year 2013\", \" \"],\n",
    "            anchor=\"start\",\n",
    "            fontSize=20,\n",
    "            fontWeight=\"bold\",\n",
    "            subtitleFontSize=16,\n",
    "        ),\n",
    "    )\n",
    "    .mark_geoshape(stroke=\"lightgray\")\n",
    "    .encode(color=\"Deaths:Q\", tooltip=[\"County:N\", \"Deaths:Q\", \"Tot_Opioid_Clms\"])\n",
    "    .project(type=\"albersUsa\")\n",
    "    .properties(width=500, height=300)\n",
    ")\n",
    "\n",
    "# Create the states plot\n",
    "states = alt.topo_feature(data.us_10m.url, feature='states')\n",
    "\n",
    "states_plot = alt.Chart(states).mark_geoshape(\n",
    "    fill='none',\n",
    "    stroke='gray'\n",
    ").project('albersUsa')\n",
    "\n",
    "opi_death_2013 = states_plot + opi_death_2013\n",
    "\n",
    "# 2020\n",
    "opi_death_2020 = (\n",
    "    alt.Chart(\n",
    "        geojson_data_plus_2020,\n",
    "        title=alt.TitleParams(\n",
    "            text=\"Number of opioid related deaths in US counties\",\n",
    "            subtitle=[\"in Year 2020\", \" \"],\n",
    "            anchor=\"start\",\n",
    "            fontSize=20,\n",
    "            fontWeight=\"bold\",\n",
    "            subtitleFontSize=16,\n",
    "        ),\n",
    "    )\n",
    "    .mark_geoshape(stroke=\"lightgray\")\n",
    "    .encode(color=\"Deaths:Q\", tooltip=[\"County:N\", \"Deaths:Q\", \"Tot_Opioid_Clms\"])\n",
    "    .project(type=\"albersUsa\")\n",
    "    .properties(width=500, height=300)\n",
    ")\n",
    "\n",
    "opi_death_2020 = states_plot + opi_death_2020\n",
    "\n",
    "opi_death_2013 | opi_death_2020"
   ]
  },
  {
   "cell_type": "markdown",
   "metadata": {},
   "source": [
    "### <font color = 'steelblue'><b>Analysis — Question 3</b></br>"
   ]
  },
  {
   "cell_type": "markdown",
   "metadata": {},
   "source": [
    " ### <font color = 'gray'>This analysis shows where there are concentrations of Opioid - related deaths across the United States in 2013 and 2020.<br>As can be seen, the concentrations are relatively consistent over time, but the darker colors reflect the growth in Opioid - related deaths."
   ]
  },
  {
   "cell_type": "markdown",
   "metadata": {},
   "source": [
    "### <font color = 'steelblue'> <b>Question 4: </b> How opioid related deaths and opioid claims vary across counties in the USA</i>?</font>\n",
    "### <font color=\"gray\">\n",
    "- The total opioid claim numbers are color coded\n",
    "- County names and corresponding death numbers are shown in tooltip (mouseover)\n",
    "- The \"white\" areas indicate missing data for that county / geographic region"
   ]
  },
  {
   "cell_type": "markdown",
   "metadata": {},
   "source": [
    "### <font color = 'steelblue'><b>Visualizaton — Question 4</b></br>"
   ]
  },
  {
   "cell_type": "code",
   "execution_count": null,
   "metadata": {},
   "outputs": [],
   "source": [
    "opi_claims_2013 = (\n",
    "    alt.Chart(\n",
    "        geojson_data_plus_2013,\n",
    "        title=alt.TitleParams(\n",
    "            text=\"Total opioid claims in US counties\",\n",
    "            subtitle=[\"in Year 2013\", \" \"],\n",
    "            anchor=\"start\",\n",
    "            fontSize=20,\n",
    "            fontWeight=\"bold\",\n",
    "            subtitleFontSize=16,\n",
    "        ),\n",
    "    )\n",
    "    .mark_geoshape(stroke=\"lightgray\")\n",
    "    .encode(color=\"Tot_Opioid_Clms:Q\", tooltip=[\"County:N\", \"Deaths:Q\", \"Tot_Opioid_Clms:Q\"])\n",
    "    .transform_lookup(\n",
    "        lookup=\"id\",\n",
    "        from_=alt.LookupData(\n",
    "            geojson_data_plus_2013, \"County_Code\", [\"Tot_Opioid_Clms\"]\n",
    "        ),\n",
    "    )\n",
    "    .project(type=\"albersUsa\")\n",
    "    .properties(width=500, height=300)\n",
    ")\n",
    "opi_claims_2013 = states_plot + opi_claims_2013\n",
    "\n",
    "opi_claims_2020 = (\n",
    "    alt.Chart(\n",
    "        geojson_data_plus_2020,\n",
    "        title=alt.TitleParams(\n",
    "            text=\"Total opioid claims in US counties\",\n",
    "            subtitle=[\"in Year 2020\", \" \"],\n",
    "            anchor=\"start\",\n",
    "            fontSize=20,\n",
    "            fontWeight=\"bold\",\n",
    "            subtitleFontSize=16,\n",
    "        ),\n",
    "    )\n",
    "    .mark_geoshape(stroke=\"lightgray\")\n",
    "    .encode(color=\"Tot_Opioid_Clms:Q\", tooltip=[\"County:N\", \"Deaths:Q\", \"Tot_Opioid_Clms:Q\"])\n",
    "    .transform_lookup(\n",
    "        lookup=\"id\",\n",
    "        from_=alt.LookupData(\n",
    "            geojson_data_plus_2020, \"County_Code\", [\"Tot_Opioid_Clms\"]\n",
    "        ),\n",
    "    )\n",
    "    .project(type=\"albersUsa\")\n",
    "    .properties(width=500, height=300)\n",
    ")\n",
    "opi_claims_2020 = states_plot + opi_claims_2020\n",
    "\n",
    "opi_claims_2013 | opi_claims_2020"
   ]
  },
  {
   "cell_type": "markdown",
   "metadata": {},
   "source": [
    "### <font color = 'steelblue'><b>Analysis — Question 4</b></br>\n",
    "#### <font color = 'gray'> This comparative visualization of total number of opioid claims in 2013 vs 2020 in US counties reveals no significant change."
   ]
  },
  {
   "cell_type": "markdown",
   "metadata": {
    "id": "r5HgTDwwwVrz"
   },
   "source": [
    "### <font color = 'steelblue'> <b>Question 5: </b> How opioid related deaths per capita varies across counties in the USA</i>?\n",
    "- The death per capita is color coded\n",
    "- County names and corresponding death numbers are shown in tooltip (mouseover)\n",
    "- The \"white\" areas indicate missing data for that county / geographic region"
   ]
  },
  {
   "cell_type": "code",
   "execution_count": null,
   "metadata": {},
   "outputs": [],
   "source": [
    "opi_death_per_capita_2013 = (\n",
    "    alt.Chart(\n",
    "        geojson_data_plus_2013,\n",
    "        title=alt.TitleParams(\n",
    "            text=\"Opioid deaths per capita in US counties\",\n",
    "            subtitle=[\"in Year 2013\", \" \"],\n",
    "            anchor=\"start\",\n",
    "            fontSize=20,\n",
    "            fontWeight=\"bold\",\n",
    "            subtitleFontSize=16,\n",
    "        ),\n",
    "    )\n",
    "    .mark_geoshape(stroke=\"lightgray\")\n",
    "    .encode(\n",
    "        color=alt.Color(\"Deaths_Per_Capita:Q\", scale=alt.Scale(scheme=\"lightgreyred\")),\n",
    "        tooltip=[\"County:N\", \"Deaths:Q\", \"Tot_Opioid_Clms:Q\"],\n",
    "    )\n",
    "    .project(type=\"albersUsa\")\n",
    "    .properties(width=500, height=300)\n",
    ")\n",
    "opi_death_per_capita_2013 = states_plot + opi_death_per_capita_2013\n",
    "\n",
    "opi_death_per_capita_2020 = (\n",
    "    alt.Chart(\n",
    "        geojson_data_plus_2020,\n",
    "        title=alt.TitleParams(\n",
    "            text=\"Opioid deaths per capita in US counties\",\n",
    "            subtitle=[\"in Year 2020\", \" \"],\n",
    "            anchor=\"start\",\n",
    "            fontSize=20,\n",
    "            fontWeight=\"bold\",\n",
    "            subtitleFontSize=16,\n",
    "        ),\n",
    "    )\n",
    "    .mark_geoshape(stroke=\"lightgray\")\n",
    "    .encode(\n",
    "        color=alt.Color(\"Deaths_Per_Capita:Q\", scale=alt.Scale(scheme=\"lightgreyred\")),\n",
    "        tooltip=[\"County:N\", \"Deaths:Q\", \"Tot_Opioid_Clms:Q\"],\n",
    "    )\n",
    "    .project(type=\"albersUsa\")\n",
    "    .properties(width=500, height=300)\n",
    ")\n",
    "opi_death_per_capita_2020 = states_plot + opi_death_per_capita_2020\n",
    "\n",
    "opi_death_per_capita_2013 | opi_death_per_capita_2020"
   ]
  },
  {
   "cell_type": "markdown",
   "metadata": {},
   "source": [
    "### <font color = 'steelblue'><b>Analysis — Question 5</b></br>\n",
    "#### <font color = 'gray'> Comparison of opioid deaths in US counties in 2013 vs 2020 indicates no noteworthy changes."
   ]
  },
  {
   "cell_type": "markdown",
   "metadata": {},
   "source": [
    "### <font color = 'steelblue'> <b>Question 6: </b> How opioid claims per capita and corresponding deaths vary across counties in the USA</i>?\n",
    "- The opioid claims per capita is color coded\n",
    "- County names and corresponding death numbers are shown in tooltip (mouseover)\n",
    "- The \"white\" areas indicate missing data for that county / geographic region"
   ]
  },
  {
   "cell_type": "code",
   "execution_count": null,
   "metadata": {},
   "outputs": [],
   "source": [
    "opi_claims_per_capita_2013 = (\n",
    "    alt.Chart(\n",
    "        geojson_data_plus_2013,\n",
    "        title=alt.TitleParams(\n",
    "            text=\"Opioid claims per capita in US counties\",\n",
    "            subtitle=[\"in Year 2013\", \" \"],\n",
    "            anchor=\"start\",\n",
    "            fontSize=20,\n",
    "            fontWeight=\"bold\",\n",
    "            subtitleFontSize=16,\n",
    "        ),\n",
    "    )\n",
    "    .mark_geoshape(stroke=\"lightgray\")\n",
    "    .encode(\n",
    "        color=alt.Color(\n",
    "            \"Tot_Opioid_Clms_Per_Capita:Q\", scale=alt.Scale(scheme=\"lightgreyteal\")\n",
    "        ),\n",
    "        tooltip=[\"County:N\", \"Deaths:Q\", \"Tot_Opioid_Clms:Q\"],\n",
    "    )\n",
    "    .project(type=\"albersUsa\")\n",
    "    .properties(width=500, height=300)\n",
    ")\n",
    "opi_claims_per_capita_2013 = states_plot + opi_claims_per_capita_2013\n",
    "\n",
    "opi_claims_per_capita_2020 = (\n",
    "    alt.Chart(\n",
    "        geojson_data_plus_2020,\n",
    "        title=alt.TitleParams(\n",
    "            text=\"Opioid claims per capita in US counties\",\n",
    "            subtitle=[\"in Year 2020\", \" \"],\n",
    "            anchor=\"start\",\n",
    "            fontSize=20,\n",
    "            fontWeight=\"bold\",\n",
    "            subtitleFontSize=16,\n",
    "        ),\n",
    "    )\n",
    "    .mark_geoshape(stroke=\"lightgray\")\n",
    "    .encode(\n",
    "        color=alt.Color(\n",
    "            \"Tot_Opioid_Clms_Per_Capita:Q\", scale=alt.Scale(scheme=\"lightgreyteal\")\n",
    "        ),\n",
    "        tooltip=[\"County:N\", \"Deaths:Q\", \"Tot_Opioid_Clms:Q\"],\n",
    "    )\n",
    "    .project(type=\"albersUsa\")\n",
    "    .properties(width=500, height=300)\n",
    ")\n",
    "opi_claims_per_capita_2020 = states_plot + opi_claims_per_capita_2020\n",
    "\n",
    "opi_claims_per_capita_2013 | opi_claims_per_capita_2020"
   ]
  },
  {
   "cell_type": "markdown",
   "metadata": {},
   "source": [
    "#### <font color = 'gray'> The comparative analysis reveals no significant change in per capita opioid claims in US counties in 2013 vs 2020."
   ]
  },
  {
   "cell_type": "markdown",
   "metadata": {},
   "source": [
    "### <font color = 'steelblue'> <b>Question 7: </b>As the number of Prescriptions continues to rise, how does that affect Deaths per Prescriptions vs Opioid Prescriptions?"
   ]
  },
  {
   "cell_type": "markdown",
   "metadata": {},
   "source": [
    "### <font color = 'steelblue'><b>Analysis — Question 7</b></br>\n",
    "#### <font color = 'gray'>To answer this question, the CMS dataset was grouped by year and Opioid prescription claims were aggregated. The CDC dataset was treated similarly (aggregating for overdose deaths) and the two datasets were merged.<br>A visualization encodes Opioid Prescription Claims on the x-axis and Deaths per Prescription Claim on the y-axis. Altair’s  transform_regresssion() method was applied to the chart object to obtain a regression line.\n",
    "\n",
    "#### <font color = 'gray'>Much of the current literature on Opiod - related deaths has to do with the decrease in legal Opioid prescriptions and the increase in Opioid deaths.  This data is validated by our countable data records and the CMS Opioid database as identified below.\n",
    "\n",
    "#### <font color = 'gray'>One factor supporting this analysis is the regulations toughening Opioid prescriptions caused that decrease in prescriptions.  “In 2018, U.S. overdose death rates from natural and semi-synthetic opioids (i.e., prescription opioid painkillers) declined significantly compared with the prior year, as did those from the illicit opioid heroin. But death rates from synthetic opioids (e.g., fentanyl) again increased significantly—reaching yet another record high.” (SHADAC, P1)\n"
   ]
  },
  {
   "cell_type": "code",
   "execution_count": null,
   "metadata": {},
   "outputs": [],
   "source": [
    "# prepare cms data for merging\n",
    "cms__by_year = cms_df.groupby(\"Year\").sum().reset_index()\n",
    "cms_claims_by_year = cms__by_year[[\"Year\", \"Tot_Opioid_Clms\"]]\n",
    "# cms_claims_by_year\n",
    "\n",
    "# prepare cdc data for merging\n",
    "cdc_deaths_by_year = cdc_df.groupby(\"Year\").sum().reset_index()\n",
    "cdc_deaths_by_year.drop(columns=[\"County Code\"], inplace=True)\n",
    "# cdc_deaths_by_year\n",
    "\n",
    "# merge cms and cdc data\n",
    "claims_deaths_per_year = cms_claims_by_year.merge(cdc_deaths_by_year, on=\"Year\")\n",
    "# claims_deaths_per_year\n",
    "\n",
    "# calculate deaths per claim\n",
    "claims_deaths_per_year[\"Deaths_Per_Claim\"] = (\n",
    "    claims_deaths_per_year[\"Deaths\"] / claims_deaths_per_year[\"Tot_Opioid_Clms\"]\n",
    ")\n",
    "claims_deaths_per_year"
   ]
  },
  {
   "cell_type": "markdown",
   "metadata": {},
   "source": [
    "### <font color = 'steelblue'><b>Visualizaton — Question 7</b></br>"
   ]
  },
  {
   "cell_type": "code",
   "execution_count": null,
   "metadata": {},
   "outputs": [],
   "source": [
    "base = (\n",
    "    alt.Chart(claims_deaths_per_year)\n",
    "    .mark_circle(size=100)\n",
    "    .encode(\n",
    "        x=alt.X(\n",
    "            \"Tot_Opioid_Clms:Q\",\n",
    "            scale=alt.Scale(domain=[60_000_000, 84_000_000]),\n",
    "            axis=alt.Axis(\n",
    "                title=\"Opioid Prescription Claims\", titleFontSize=14, labelFontSize=12\n",
    "            ),\n",
    "        ),\n",
    "        y=alt.Y(\n",
    "            \"Deaths_Per_Claim:Q\",\n",
    "            scale=alt.Scale(zero=False),\n",
    "            axis=alt.Axis(\n",
    "                title=\"Deaths per Prescription Claim\",\n",
    "                titleFontSize=14,\n",
    "                labelFontSize=12,\n",
    "            ),\n",
    "        ),\n",
    "        tooltip=[\"Year:N\", \"Tot_Opioid_Clms:Q\", \"Deaths_Per_Claim:Q\"],\n",
    "    )\n",
    "    .properties(\n",
    "        width=750,\n",
    "        height=500,\n",
    "        title={\n",
    "            \"text\": \"Deaths per Prescriptions vs Opioid Prescriptions\",\n",
    "            \"fontSize\": 20,\n",
    "        },\n",
    "    )\n",
    ")\n",
    "\n",
    "regression = base.transform_regression(\n",
    "    \"Tot_Opioid_Clms\", \"Deaths_Per_Claim\", method=\"linear\"\n",
    ").mark_line(color=\"red\")\n",
    "\n",
    "plot = base + regression\n",
    "plot"
   ]
  },
  {
   "cell_type": "markdown",
   "metadata": {},
   "source": [
    "### <font color = 'steelblue'><b>Analysis — Question 7</b></br>\n",
    "#### <font color = 'gray'>To test the strength of the correlation between Opioid Prescription Claims and Deaths per Prescription the scipy.stats and statsmodels formula library were used. A strong negative correlation was observed as indicated by Pearson r:  -0.94 with a low p-value (statistically significant).  The Coefficient of Determination (“goodness of fit”) was R–squared 0.88 tells us that 88% of the variance in the dependent variable is predictable from the independent variable. "
   ]
  },
  {
   "cell_type": "code",
   "execution_count": null,
   "metadata": {},
   "outputs": [],
   "source": [
    "# show the regression correlation statistics\n",
    "result = smf.ols(\n",
    "    formula=\"Deaths_Per_Claim ~ Tot_Opioid_Clms\", data=claims_deaths_per_year\n",
    ").fit()\n",
    "print_the_stats_2(claims_deaths_per_year, result, \"Deaths_Per_Claim\", \"Tot_Opioid_Clms\")"
   ]
  },
  {
   "cell_type": "markdown",
   "metadata": {},
   "source": [
    "### <font color = 'steelblue'> <b>Question 8: </b>During 2013-2020 which counties saw the steepest rise in Overdose Deaths per Opioid Prescription?"
   ]
  },
  {
   "cell_type": "markdown",
   "metadata": {},
   "source": [
    "### <font color = 'steelblue'><b>Analysis — Question 8</b></br>\n",
    "#### <font color = 'gray'>The objective is  to identify the counties in the United States that saw the steepest rise in overdose deaths per opioid prescription between 2013 and 2020. The statsmodels formula library was used to create regression models.<br>The resulting table was filtered to only include rows with an R-squared value above 0.80. This was done to ensure that the results are only from counties where the linear regression model is a good fit for the data.<br>For reference the number of overdose deaths per 1000 opioid prescriptions in 2020 is shown in the table.\n"
   ]
  },
  {
   "cell_type": "code",
   "execution_count": null,
   "metadata": {},
   "outputs": [],
   "source": [
    "# create a cdc_basic with only the columns of interest\n",
    "cdc_basic = cdc_df.copy()\n",
    "cdc_basic = cdc_basic[[\"County\", \"Year\", \"Deaths\"]]\n",
    "cdc_basic.head(3)\n",
    "\n",
    "# prepare for merge\n",
    "cdc_basic[\"County-Year\"] = cdc_basic[\"County\"] + \"-\" + cdc_basic[\"Year\"].astype(str)\n",
    "# cdc_basic.head(3)"
   ]
  },
  {
   "cell_type": "code",
   "execution_count": null,
   "metadata": {},
   "outputs": [],
   "source": [
    "# create cms_basic which is a copy of cms_df_enriched with only the columns of interest\n",
    "cms_basic = cms_df.copy()\n",
    "cms_basic = cms_basic[[\"Year\", \"County\", \"Tot_Opioid_Clms\"]]\n",
    "cms_basic[\"County-Year\"] = cms_basic[\"County\"] + \"-\" + cms_basic[\"Year\"].astype(str)"
   ]
  },
  {
   "cell_type": "code",
   "execution_count": null,
   "metadata": {},
   "outputs": [],
   "source": [
    "# merge the two dataframes\n",
    "basic_merged = cdc_basic.merge(\n",
    "    cms_basic, on=\"County-Year\", how=\"left\", suffixes=(\"\", \"_y\")\n",
    ").loc[:, [\"County\", \"Year\", \"Deaths\", \"Tot_Opioid_Clms\"]]"
   ]
  },
  {
   "cell_type": "code",
   "execution_count": null,
   "metadata": {},
   "outputs": [],
   "source": [
    "# create new column for deaths per 1000 opioid prescriptions\n",
    "basic_merged[\"deaths_per_1000_prescriptions\"] = (\n",
    "    basic_merged[\"Deaths\"] / basic_merged[\"Tot_Opioid_Clms\"]\n",
    ") * 1000\n",
    "\n",
    "# Filter out records with zero variance in deaths_per_claim.\n",
    "basic_merged2 = basic_merged[\n",
    "    basic_merged.groupby(\"County\")[\"deaths_per_1000_prescriptions\"].transform(\"std\") > 0\n",
    "]\n",
    "\n",
    "counties = basic_merged2[\"County\"].unique()\n",
    "\n",
    "# Get the stats\n",
    "a_dict = {}\n",
    "for each_county in counties:\n",
    "    result = smf.ols(\n",
    "        formula=\"deaths_per_1000_prescriptions ~ Year\",\n",
    "        data=basic_merged[basic_merged[\"County\"] == each_county],\n",
    "    ).fit()\n",
    "    a_dict[each_county] = [\n",
    "        result.params[\"Intercept\"],\n",
    "        result.params[\"Year\"],\n",
    "        result.rsquared,\n",
    "    ]\n",
    "\n",
    "# Create table\n",
    "table = (\n",
    "    pd.DataFrame.from_dict(\n",
    "        a_dict, orient=\"index\", columns=[\"Intercept\", \"coefficient\", \"R-squared\"]\n",
    "    )\n",
    "    .reset_index()\n",
    "    .rename(columns={\"index\": \"County\"})\n",
    ")\n",
    "\n",
    "# Filter:  only want rows with R-squared above 0.80\n",
    "table = table[table[\"R-squared\"] > 0.80]\n",
    "\n",
    "# Sort the table descending by the absolute value of the coefficient\n",
    "table[\"coefficient_abs\"] = table[\"coefficient\"].abs()\n",
    "table = table.sort_values(\"coefficient_abs\", ascending=False).drop(\n",
    "    columns=[\"coefficient_abs\"]\n",
    ")\n",
    "\n",
    "# Format the numbers for display (optional, if you just want to display the table)\n",
    "table[\"Intercept\"] = table[\"Intercept\"].apply(lambda x: f\"{x:.2f}\")\n",
    "table[\"coefficient\"] = table[\"coefficient\"].apply(lambda x: f\"{x:.8f}\")\n",
    "table[\"R-squared\"] = table[\"R-squared\"].apply(lambda x: f\"{x:.2f}\")"
   ]
  },
  {
   "cell_type": "code",
   "execution_count": null,
   "metadata": {},
   "outputs": [],
   "source": [
    "# create subset to prepare for merge\n",
    "basic_merged_2020 = basic_merged[basic_merged[\"Year\"] == 2020][\n",
    "    [\"County\", \"deaths_per_1000_prescriptions\"]\n",
    "]\n",
    "\n",
    "# drop rows with NaN values\n",
    "basic_merged_2020 = basic_merged_2020.dropna()\n",
    "\n",
    "# rename column \"deaths_per_1000_prescriptions\" to \"Year_2020_deaths_per_1000_prescriptions\"\n",
    "basic_merged_2020 = basic_merged_2020.rename(\n",
    "    columns={\"deaths_per_1000_prescriptions\": \"Year_2020_deaths_per_1000_prescriptions\"}\n",
    ")\n",
    "# basic_merged_2020\n",
    "\n",
    "# create a new DataFrame that is based on table and basic_merged_2020\n",
    "basic_merged_2020 = pd.merge(table, basic_merged_2020, on=\"County\", how=\"inner\")"
   ]
  },
  {
   "cell_type": "markdown",
   "metadata": {},
   "source": [
    "### <font color = 'steelblue'><b>Table — Question 8</b></br>"
   ]
  },
  {
   "cell_type": "code",
   "execution_count": null,
   "metadata": {},
   "outputs": [],
   "source": [
    "# Display basic_merged_2020\n",
    "print(\n",
    "    \"Table: \\n\\nSteepest Rise in Deaths per 1000 Prescriptions 2013-202\\nThe Top 10 Counties\\nby coefficient (slope) \\nYear 2020 Deaths per 1000 Prescriptions is shown in the last column\"\n",
    ")\n",
    "display(basic_merged_2020[:10].style.hide_index())"
   ]
  },
  {
   "cell_type": "markdown",
   "metadata": {},
   "source": [
    "### <font color = 'steelblue'> <b>Question 9:</b> How should \"suppressed\" and \"missing\" values be treated?"
   ]
  },
  {
   "cell_type": "markdown",
   "metadata": {},
   "source": [
    "#### <font color = 'gray'> Approach taken to address \"Suppressed\" death information</b>\n",
    "Rational: For this analysis, The CDC has excluded all death counts under 9 deaths in a county.  The CDC's \"Privacy policy: Statistics representing fewer than ten (one to nine) deaths or births are suppressed.\"*<br> (source:  https://wonmder.cdc.gov/wonder/help/ucd.html#Assurance%20of%20Confidentiality)\n",
    "\n",
    "There are several solutions for understanding missing data.  Those include:\n",
    "1) Missing Completely at Random (MCAR).  Given the CDC's guidance, we know that the Suppressed data is not random.\n",
    "2) Missing at Random (conditionally) (MAR).  In this case, the missing data is related to the observation.  \n",
    "3) Not Missing at Random (NMAR).  This is the case with the CDC dataset.  The decision to protect PII is what has driven that decision.\n",
    "\n",
    "In our analysis, Approach 3 is the one that best describes our missing data.  However, given the knowledge we have about the data, we don't have too many options to impute the missing data.  For example, we have no comparison to county size since the values are small.  The population sizes for counties with Suppressed data ranges from the 50s to over 75000 residents.  We could look to a random weighted analysis based on population size, but in our review, we determined that population may not be the best weighting for the replacement.\n",
    "\n",
    "As such, we will be populating the Suppressed Data values with 5.\n",
    "\n",
    "Also, we have a portion of the data that is categorized as Missing.  We are treating that data as 0 deaths since the original dataset has explicit values from 1 up.  That covers 41 records, which is .2% percent of the records in the analysis.\n",
    "\n",
    "Source:<br>\n",
    "supressed is defined as 1-9 inclusive:  \n",
    "*\"Privacy policy: Statistics representing fewer than ten (one to nine) deaths or births are suppressed.\"*<br>\n",
    "source:  https://wonmder.cdc.gov/wonder/help/ucd.html#Assurance%20of%20Confidentiality"
   ]
  },
  {
   "cell_type": "code",
   "execution_count": null,
   "metadata": {},
   "outputs": [],
   "source": [
    "# EDA to determine approach for \"Missing\" values\n",
    "death_values = list(cdc_original_df[\"Deaths\"].unique())\n",
    "death_values.sort()\n",
    "print(f\"Overview of Death Values:  {death_values[:5]} ... {death_values[-5:]}\")"
   ]
  },
  {
   "cell_type": "markdown",
   "metadata": {},
   "source": [
    "### <font color=\"gray\"><b>EDA to determine approach for \"Suppressed Deaths\" values"
   ]
  },
  {
   "cell_type": "code",
   "execution_count": null,
   "metadata": {},
   "outputs": [],
   "source": [
    "# Setting up a fresh dataframe for the analysis.\n",
    "cdc_df_raw_supp = cdc_original_df.copy()"
   ]
  },
  {
   "cell_type": "code",
   "execution_count": null,
   "metadata": {},
   "outputs": [],
   "source": [
    "# Evaluation of the missing values in the dataframe\n",
    "suppressed_deaths = cdc_df_raw_supp.Deaths.str.count(\"Suppressed\").sum()\n",
    "missing_deaths = cdc_df_raw_supp.Deaths.str.count(\"Missing\").sum()\n",
    "suppressed_pop = cdc_df_raw_supp.Population.str.count(\"Suppressed\").sum()\n",
    "missing_pop = cdc_df_raw_supp.Population.str.count(\"Missing\").sum()\n",
    "total_rec = len(cdc_df_raw_supp)"
   ]
  },
  {
   "cell_type": "code",
   "execution_count": null,
   "metadata": {},
   "outputs": [],
   "source": [
    "# Preparing the Suppressed Deaths dataframe\n",
    "suppressed_deaths_df = cdc_df_raw_supp.loc[cdc_df_raw_supp[\"Deaths\"] == \"Suppressed\"]\n",
    "# print(suppressed_deaths_df)\n",
    "suppressed_deaths_df = suppressed_deaths_df.drop(\n",
    "    suppressed_deaths_df[(suppressed_deaths_df.Population == \"Missing\")].index\n",
    ")\n",
    "# suppressed_deaths_df['Population'].describe()"
   ]
  },
  {
   "cell_type": "code",
   "execution_count": null,
   "metadata": {},
   "outputs": [],
   "source": [
    "# Preparing the Countable Deaths dataframe \n",
    "countable_deaths_df = cdc_df_raw_supp.loc[cdc_df_raw_supp[\"Deaths\"] != \"Suppressed\"]\n",
    "countable_deaths_df = countable_deaths_df.drop(\n",
    "    countable_deaths_df[countable_deaths_df.Deaths == \"Missing\"].index\n",
    ")\n",
    "countable_deaths_df = countable_deaths_df.drop(\n",
    "    countable_deaths_df[countable_deaths_df.Deaths == \"nan\"].index\n",
    ")\n",
    "countable_deaths_df.dropna(subset=[\"Deaths\"])\n",
    "countable_deaths_df.dropna(subset=[\"State\"], inplace=True)\n",
    "countable_deaths_df[\"Deaths\"] = countable_deaths_df[\"Deaths\"].astype(str).astype(int)\n",
    "countable_deaths = countable_deaths_df[\"Deaths\"].sum()\n",
    "# countable_deaths_df['Deaths'].unique()"
   ]
  },
  {
   "cell_type": "markdown",
   "metadata": {},
   "source": [
    "### <font color = 'steelblue'><b>Analysis — Question 9</b></br>"
   ]
  },
  {
   "cell_type": "code",
   "execution_count": null,
   "metadata": {},
   "outputs": [],
   "source": [
    "print(\n",
    "    \"Summary (2013 - 2020): \\n\",\n",
    "    \"Total Records: \",\n",
    "    total_rec,\n",
    "    \"\\n\",\n",
    "    \"Suppressed Deaths: \",\n",
    "    suppressed_deaths,\n",
    "    \"Percent: %.3f\" % (suppressed_deaths / total_rec),\n",
    "    \"\\n\",\n",
    "    \"Missing Deaths: \",\n",
    "    missing_deaths,\n",
    "    \"Percent: %.3f\" % (missing_deaths / total_rec),\n",
    "    \"\\n\",\n",
    "    \"Suppressed Population: \",\n",
    "    suppressed_pop,\n",
    "    \"Percent: %.3f\" % (suppressed_pop / total_rec),\n",
    "    \"\\n\",\n",
    "    \"Missing Population: \",\n",
    "    missing_pop,\n",
    "    \"Percent: %.3f\" % (missing_pop / total_rec),\n",
    "    \"\\n\",\n",
    ")\n",
    "\n",
    "print(\n",
    "    \"Options to address Suppressed Deaths: \\n\",\n",
    "    \"Total Countable (non-suppressed) Deaths: \",\n",
    "    countable_deaths,\n",
    "    \"\\n\",\n",
    "    \"If Suppressed Deaths filled with 1 adds in: \",\n",
    "    int(suppressed_deaths * 1),\n",
    "    \" \\n\",\n",
    "    \"Working Assumption: If Suppressed Deaths filled with 5 adds in: \",\n",
    "    int(suppressed_deaths * 5),\n",
    "    \"for a total of\",\n",
    "    countable_deaths + int(suppressed_deaths * 5),\n",
    "    \"deaths. \\n\",\n",
    "    \"If Suppressed Deaths filled with 9 adds in: \",\n",
    "    int(suppressed_deaths * 9),\n",
    "    \"\\n\",\n",
    ")"
   ]
  },
  {
   "cell_type": "markdown",
   "metadata": {},
   "source": [
    "### <font color = 'steelblue'> <b>Question 10: </b>During 2013-2020, what are the current trends in the ability to accurately track deaths in the CDC database?"
   ]
  },
  {
   "cell_type": "code",
   "execution_count": null,
   "metadata": {},
   "outputs": [],
   "source": [
    "# Preparing the dataset\n",
    "vis_countable_deaths_df = countable_deaths_df.copy()\n",
    "vis_countable_deaths_df[\"Year\"] = (\n",
    "    vis_countable_deaths_df[\"Year\"].astype(int).astype(str)\n",
    ")\n",
    "vis_countable_deaths_df = vis_countable_deaths_df.groupby([\"Year\"]).sum()\n",
    "# vis_countable_deaths_df[\"Deaths\"]\n",
    "\n",
    "\n",
    "\n",
    "suppressed_deaths_df\n",
    "suppressed_deaths_df[\"Year\"] = suppressed_deaths_df[\"Year\"].astype(int)\n",
    "vis_suppressed_deaths_df = suppressed_deaths_df.groupby([\"Year\"]).count()\n",
    "# vis_suppressed_deaths_df"
   ]
  },
  {
   "cell_type": "markdown",
   "metadata": {},
   "source": [
    "### <font color = 'steelblue'><b>Visualization - Question 10"
   ]
  },
  {
   "cell_type": "code",
   "execution_count": null,
   "metadata": {},
   "outputs": [],
   "source": [
    "bar_countable_deaths = (\n",
    "    alt.Chart(\n",
    "        vis_countable_deaths_df.reset_index(),\n",
    "        title=alt.TitleParams(\n",
    "            text=\"Countable Deaths Recorded\",\n",
    "            subtitle=[\"Based on data from 2013 to 2020\", \" \"],\n",
    "            anchor=\"start\",\n",
    "            fontSize=20,\n",
    "            fontWeight=\"bold\",\n",
    "            subtitleFontSize=16,\n",
    "        ),\n",
    "    )\n",
    "    .mark_bar()\n",
    "    .encode(\n",
    "        x=alt.X(\"Year:O\", title=\"Years\"),\n",
    "        y=alt.Y(\"Deaths:Q\", title=\"Countable Deaths\"),\n",
    "    )\n",
    ").properties(width=400)\n",
    "# bar_countable_deaths\n",
    "\n",
    "bar_suppressed_deaths = (\n",
    "    alt.Chart(\n",
    "        vis_suppressed_deaths_df.reset_index(),\n",
    "        title=alt.TitleParams(\n",
    "            text=\"Suppressed Death Record Counts\",\n",
    "            subtitle=[\"Based on data from 2013 to 2020\", \" \"],\n",
    "            anchor=\"start\",\n",
    "            fontSize=20,\n",
    "            fontWeight=\"bold\",\n",
    "            subtitleFontSize=16,\n",
    "        ),\n",
    "    )\n",
    "    .mark_bar()\n",
    "    .encode(\n",
    "        x=alt.X(\"Year:O\", title=\"Years\"),\n",
    "        y=alt.Y(\"Deaths:Q\", title=\"Suppressed Deaths\"),\n",
    "    )\n",
    ").properties(width=400)\n",
    "# bar_suppressed_deaths\n",
    "\n",
    "# create a dummy Altair chart that is just a blank chart with the same size as the other two charts\n",
    "blank_chart = ( \n",
    "    alt.Chart(vis_countable_deaths_df.reset_index())\n",
    "    .mark_text()\n",
    "    .properties(width=100)\n",
    ")\n",
    "\n",
    "plot = (bar_countable_deaths | blank_chart | bar_suppressed_deaths).configure_view(strokeWidth=0)"
   ]
  },
  {
   "cell_type": "markdown",
   "metadata": {},
   "source": [
    "### <font color = 'steelblue'><b>Analysis — Question 10</b></br>\n",
    "#### <font color = 'gray'>As seen below, deaths have increased from 2013 - 2020.  The visualization on the left refers to countable deaths (excluding our treatment for suppressed deaths).  As we have shown above, the relationship between deaths and prescriptions is dropping.  So how can we interpret this increase?\n",
    "\n",
    "#### <font color = 'gray'>One possible explanation has been identified by the New York State Department of Health.  “From 2019 to 2020, there was another increase of 44 percent in overdose deaths involving any opioid (from 2,939 deaths to 4,233 deaths) among NYS residents, a 294 percent increase since 2010.” (NYSDOH, P15).  This supports the increase identified below.  But is this attributable to legally prescribed Opioids?  Our analysis in Question 7 indicates this is not the case.  In terms of driving the increase in deaths, there are a few contributors to the increase:\n",
    "\n",
    "#### <font color = 'gray'>1) Per SHADAC, there has been a significant increase in deaths due to \"synthetic Opioids\" - those generally NOT medically prescribed (SHADAC, P3).  While their data is only current to 2018, the gap between 2013 and 2018 has dramatically increased.\n",
    "#### <font color = 'gray'>2) States are getting better at recording deaths.  NY believes “it is possible that a portion of these observed increases in the past decade have likely been contributed by raised awareness of opioid overdoses, improvements in technology and resources for toxicology testing, and improved cause-of-death reporting”  (NYSDOH, P15)\n",
    "\n",
    "#### <font color = 'gray'>Finally, what is apparent in our \"Suppressed\" record count, the increases in the deaths are probably not attributable to the declines in those record counts.  There are approximately 150 fewer \"Suppressed\" records in 2020 than in 2019.  If they all had 10 deaths and became reportable, that would only increase our \"Countable Death\" records by 1,500 deaths.  This is certainly not driving the increase as seen in the left visualization.\n"
   ]
  },
  {
   "cell_type": "code",
   "execution_count": null,
   "metadata": {},
   "outputs": [],
   "source": [
    "# plot the viz\n",
    "plot"
   ]
  },
  {
   "cell_type": "markdown",
   "metadata": {},
   "source": [
    "NOTE: The Y-Axes are different scales.  The intent is to show the relative moves directionally over the analysis period."
   ]
  },
  {
   "cell_type": "markdown",
   "metadata": {},
   "source": [
    "#### <font color = 'gray'> These trends are being seen at the state level.  The NY “From 2019 to 2020, there was another increase of 44 percent in overdose deaths involving any opioid (from 2,939 deaths to 4,233 deaths) among NYS residents, a 294 percent increase since 2010.” (NYSDOH, P15).  \n",
    "\n",
    "#### <font color = 'gray'> As well, the visualization on the right refers to a decrease in the \"Suppressed\" death number of records in the CDC database.  In essence, this means that counties are now recording \"0\" deaths or that the deaths have increased from 9, indicating that the death is no longer suppressed.\n",
    "\n",
    "#### <font color = 'gray'>NY believes “it is possible that a portion of these observed increases in the past decade have likely been contributed by raised awareness of opioid overdoses, improvements in technology and resources for toxicology testing, and improved cause-of-death reporting”  (NYSDOH, P15)\n",
    "\n"
   ]
  },
  {
   "cell_type": "markdown",
   "metadata": {},
   "source": [
    "### <font color = 'steelblue'>End</i>"
   ]
  }
 ],
 "metadata": {
  "colab": {
   "provenance": []
  },
  "kernelspec": {
   "display_name": "Python 3 (ipykernel)",
   "language": "python",
   "name": "python3"
  },
  "language_info": {
   "codemirror_mode": {
    "name": "ipython",
    "version": 3
   },
   "file_extension": ".py",
   "mimetype": "text/x-python",
   "name": "python",
   "nbconvert_exporter": "python",
   "pygments_lexer": "ipython3",
   "version": "3.9.13"
  },
  "toc": {
   "base_numbering": 1,
   "nav_menu": {},
   "number_sections": true,
   "sideBar": true,
   "skip_h1_title": false,
   "title_cell": "Table of Contents",
   "title_sidebar": "Contents",
   "toc_cell": false,
   "toc_position": {},
   "toc_section_display": true,
   "toc_window_display": false
  }
 },
 "nbformat": 4,
 "nbformat_minor": 1
}
